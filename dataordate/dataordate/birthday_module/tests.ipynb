{
 "cells": [
  {
   "cell_type": "code",
   "execution_count": null,
   "metadata": {},
   "outputs": [
    {
     "ename": "",
     "evalue": "",
     "output_type": "error",
     "traceback": [
      "\u001b[1;31mRunning cells with 'Python 3.8.2 ('dataordate-aXjFkcZX-py3.8')' requires ipykernel package.\n",
      "Run the following command to install 'ipykernel' into the Python environment. \n",
      "Command: 'C:/Users/Asus/AppData/Local/pypoetry/Cache/virtualenvs/dataordate-aXjFkcZX-py3.8/Scripts/python.exe -m pip install ipykernel -U --force-reinstall'"
     ]
    }
   ],
   "source": []
  },
  {
   "cell_type": "code",
   "execution_count": null,
   "metadata": {},
   "outputs": [],
   "source": []
  }
 ],
 "metadata": {
  "interpreter": {
   "hash": "bfae344bc1bec21eae7f6b268efa2ff0b25c4d4aa5463da600e16cdf56c3fb3e"
  },
  "kernelspec": {
   "display_name": "Python 3.8.2 ('dataordate-aXjFkcZX-py3.8')",
   "language": "python",
   "name": "python3"
  },
  "language_info": {
   "name": "python",
   "version": "3.8.2"
  },
  "orig_nbformat": 4
 },
 "nbformat": 4,
 "nbformat_minor": 2
}
